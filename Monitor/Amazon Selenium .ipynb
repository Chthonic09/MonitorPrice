{
 "cells": [
  {
   "cell_type": "code",
   "execution_count": 1,
   "metadata": {},
   "outputs": [],
   "source": [
    "import random\n",
    "import pandas as pd\n",
    "import time\n",
    "from bs4 import BeautifulSoup\n",
    "from selenium import webdriver"
   ]
  },
  {
   "cell_type": "code",
   "execution_count": 3,
   "metadata": {},
   "outputs": [
    {
     "name": "stdout",
     "output_type": "stream",
     "text": [
      "Length of ASIN list is: 2009\n",
      "Test ASIN is: B08XQSSZHM B07G2ZF6GD\n",
      "['B097QK6W46', 'B0911MSYGW', 'B0773ZY26F', 'B092XF3W9T', 'B078HMK7S3', 'B08BF4CZSV', 'B098YKNVWR', 'B072M34RQC', 'B0863881T1', 'B08LLD2QXJ']\n"
     ]
    }
   ],
   "source": [
    "asins = pd.read_csv('ASIN.csv',header=None,index_col=False, usecols=[1])\n",
    "asin = pd.Series(asins[1]).tolist()\n",
    "x = random.choice(asin)\n",
    "y = random.choice(asin)\n",
    "test = asin[:10]\n",
    "print('Length of ASIN list is: ' + str(len(asin)))\n",
    "print('Test ASIN is: ' + x + ' ' + y)\n",
    "print(test)"
   ]
  },
  {
   "cell_type": "code",
   "execution_count": 4,
   "metadata": {},
   "outputs": [
    {
     "name": "stdout",
     "output_type": "stream",
     "text": [
      "Wall time: 4min 48s\n"
     ]
    }
   ],
   "source": [
    "%%time\n",
    "list_of_dicts= []\n",
    "for i in test:\n",
    "    product_info = {}\n",
    "    try:\n",
    "        \n",
    "        web = r\"https://www.amazon.com/exec/obidos/ASIN/\" + i\n",
    "        path = \"C:\\\\Users\\\\wiatr\\\\anaconda3\\\\chromedriver.exe\"\n",
    "        driver = webdriver.Chrome(path)\n",
    "        driver.get(web)\n",
    "        time.sleep(10)\n",
    "    except:\n",
    "        continue\n",
    "\n",
    "    try:\n",
    "        name = driver.find_element_by_xpath('//span[@id=\"productTitle\"]')\n",
    "        product_info['name'] = name.text.strip()\n",
    "    except:\n",
    "        product_info['name'] = 0\n",
    "            \n",
    "    try:\n",
    "        soup = BeautifulSoup(driver.page_source, 'html.parser')\n",
    "        product_info['price'] = [elem.text for elem in soup.find_all('span', {'class': 'a-offscreen'}) if \"$\" in elem.text][0]\n",
    "    except:\n",
    "        product_info['price'] = 0\n",
    "    \n",
    "    try:\n",
    "        table_names = ['productDetails_detailBullets_sections1','productDetails_detailBullets_sections2','productDetails_techSpec_section_1','productDetails_techSpec_section_2']\n",
    "        for table in table_names:\n",
    "            try:\n",
    "                names = driver.find_elements_by_xpath('//table[@id=\"' + table + '\"]/tbody/tr/th')\n",
    "                values = driver.find_elements_by_xpath('//table[@id=\"' + table + '\"]/tbody/tr/td')\n",
    "            except:\n",
    "                continue\n",
    "\n",
    "            for x in range(len(names)):\n",
    "                name = names[x].text.strip()\n",
    "                value = values[x].text.strip()\n",
    "                product_info[name] = value\n",
    "                    \n",
    "    except:\n",
    "        pass\n",
    "        \n",
    "    list_of_dicts.append(product_info)  # Append scrape to dictionary\n",
    "            \n",
    "df = pd.DataFrame(list_of_dicts)\n",
    "df.to_csv('output.csv')\n",
    "\n",
    "driver.close()\n",
    "driver.quit()"
   ]
  },
  {
   "cell_type": "code",
   "execution_count": null,
   "metadata": {},
   "outputs": [],
   "source": []
  }
 ],
 "metadata": {
  "kernelspec": {
   "display_name": "Python 3",
   "language": "python",
   "name": "python3"
  },
  "language_info": {
   "codemirror_mode": {
    "name": "ipython",
    "version": 3
   },
   "file_extension": ".py",
   "mimetype": "text/x-python",
   "name": "python",
   "nbconvert_exporter": "python",
   "pygments_lexer": "ipython3",
   "version": "3.7.3"
  }
 },
 "nbformat": 4,
 "nbformat_minor": 2
}
