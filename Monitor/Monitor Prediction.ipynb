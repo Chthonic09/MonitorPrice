{
 "cells": [
  {
   "cell_type": "code",
   "execution_count": 5,
   "metadata": {},
   "outputs": [],
   "source": [
    "import pandas as pd"
   ]
  },
  {
   "cell_type": "code",
   "execution_count": 6,
   "metadata": {},
   "outputs": [],
   "source": [
    "cols = ['url', 'price', 'name', 'ASIN', 'Brand', 'Color', 'Item Dimensions  LxWxH', 'Item Weight', 'Manufacturer', 'Max Screen Resolution', 'Screen Resolution', 'Standing screen display size','Customer Reviews', 'Best Sellers Rank']"
   ]
  },
  {
   "cell_type": "code",
   "execution_count": 7,
   "metadata": {},
   "outputs": [
    {
     "data": {
      "text/html": [
       "<div>\n",
       "<style scoped>\n",
       "    .dataframe tbody tr th:only-of-type {\n",
       "        vertical-align: middle;\n",
       "    }\n",
       "\n",
       "    .dataframe tbody tr th {\n",
       "        vertical-align: top;\n",
       "    }\n",
       "\n",
       "    .dataframe thead th {\n",
       "        text-align: right;\n",
       "    }\n",
       "</style>\n",
       "<table border=\"1\" class=\"dataframe\">\n",
       "  <thead>\n",
       "    <tr style=\"text-align: right;\">\n",
       "      <th></th>\n",
       "      <th>url</th>\n",
       "      <th>price</th>\n",
       "      <th>name</th>\n",
       "      <th>ASIN</th>\n",
       "      <th>Best Sellers Rank</th>\n",
       "      <th>Brand</th>\n",
       "      <th>Color</th>\n",
       "      <th>Customer Reviews</th>\n",
       "      <th>Item Dimensions  LxWxH</th>\n",
       "      <th>Item Weight</th>\n",
       "      <th>Manufacturer</th>\n",
       "      <th>Max Screen Resolution</th>\n",
       "      <th>Screen Resolution</th>\n",
       "      <th>Standing screen display size</th>\n",
       "    </tr>\n",
       "  </thead>\n",
       "  <tbody>\n",
       "    <tr>\n",
       "      <th>0</th>\n",
       "      <td>https://www.amazon.com/exec/obidos/ASIN/B097QK...</td>\n",
       "      <td>$329.99</td>\n",
       "      <td>Sceptre IPS 24\" 1920 x 1080p Gaming Monitor up...</td>\n",
       "      <td>B097QK6W46</td>\n",
       "      <td>#121,373 in Electronics (See Top 100 in Electr...</td>\n",
       "      <td>Sceptre</td>\n",
       "      <td>Black</td>\n",
       "      <td>/*\\n* Fix for UDP-1061. Average customer revie...</td>\n",
       "      <td>21.21 x 15.75 x 5.95 inches</td>\n",
       "      <td>6.17 pounds</td>\n",
       "      <td>Sceptre</td>\n",
       "      <td>1920X1080 Pixels</td>\n",
       "      <td>1920 x 1080</td>\n",
       "      <td>24 Inches</td>\n",
       "    </tr>\n",
       "    <tr>\n",
       "      <th>1</th>\n",
       "      <td>https://www.amazon.com/exec/obidos/ASIN/B0911M...</td>\n",
       "      <td>$199.98</td>\n",
       "      <td>Sceptre 27 inch 240Hz 1080p Gaming Monitor AMD...</td>\n",
       "      <td>B0911MSYGW</td>\n",
       "      <td>#2,002 in Electronics (See Top 100 in Electron...</td>\n",
       "      <td>Sceptre</td>\n",
       "      <td>Black</td>\n",
       "      <td>/*\\n* Fix for UDP-1061. Average customer revie...</td>\n",
       "      <td>24.13 x 21.14 x 9.27 inches</td>\n",
       "      <td>13.2 pounds</td>\n",
       "      <td>Sceptre</td>\n",
       "      <td>1920x1080 Pixels</td>\n",
       "      <td>NaN</td>\n",
       "      <td>27 Inches</td>\n",
       "    </tr>\n",
       "    <tr>\n",
       "      <th>2</th>\n",
       "      <td>https://www.amazon.com/exec/obidos/ASIN/B0773Z...</td>\n",
       "      <td>$139.97</td>\n",
       "      <td>Sceptre 24\" Professional Thin 75Hz 1080p LED M...</td>\n",
       "      <td>B0773ZY26F</td>\n",
       "      <td>#197 in Electronics (See Top 100 in Electronic...</td>\n",
       "      <td>Sceptre</td>\n",
       "      <td>Machine Black</td>\n",
       "      <td>/*\\n* Fix for UDP-1061. Average customer revie...</td>\n",
       "      <td>21.59 x 7.02 x 15.83 inches</td>\n",
       "      <td>5.77 pounds</td>\n",
       "      <td>Sceptre Inc.</td>\n",
       "      <td>1920 x 1080 Pixels</td>\n",
       "      <td>1920x1080</td>\n",
       "      <td>24 Inches</td>\n",
       "    </tr>\n",
       "    <tr>\n",
       "      <th>3</th>\n",
       "      <td>https://www.amazon.com/exec/obidos/ASIN/B092XF...</td>\n",
       "      <td>$154.97</td>\n",
       "      <td>Sceptre IPS 24-Inch Computer LED Monitor 1920x...</td>\n",
       "      <td>B092XF3W9T</td>\n",
       "      <td>#6,245 in Electronics (See Top 100 in Electron...</td>\n",
       "      <td>Sceptre</td>\n",
       "      <td>Black</td>\n",
       "      <td>/*\\n* Fix for UDP-1061. Average customer revie...</td>\n",
       "      <td>21.25 x 15.53 x 7.03 inches</td>\n",
       "      <td>6.02 pounds</td>\n",
       "      <td>Sceptre</td>\n",
       "      <td>1920x1080 Pixels</td>\n",
       "      <td>1920 x 1080</td>\n",
       "      <td>24 Inches</td>\n",
       "    </tr>\n",
       "    <tr>\n",
       "      <th>4</th>\n",
       "      <td>https://www.amazon.com/exec/obidos/ASIN/B078HM...</td>\n",
       "      <td>$114.97</td>\n",
       "      <td>Sceptre 20\" 1600 x 900 75Hz LED Monitor 2X HDM...</td>\n",
       "      <td>B078HMK7S3</td>\n",
       "      <td>#1,268 in Electronics (See Top 100 in Electron...</td>\n",
       "      <td>Sceptre</td>\n",
       "      <td>Black</td>\n",
       "      <td>/*\\n* Fix for UDP-1061. Average customer revie...</td>\n",
       "      <td>18.01 x 7.02 x 13.58 inches</td>\n",
       "      <td>4.29 pounds</td>\n",
       "      <td>Sceptre</td>\n",
       "      <td>1600 x 900 Pixels</td>\n",
       "      <td>1600x900</td>\n",
       "      <td>20 Inches</td>\n",
       "    </tr>\n",
       "  </tbody>\n",
       "</table>\n",
       "</div>"
      ],
      "text/plain": [
       "                                                 url    price  \\\n",
       "0  https://www.amazon.com/exec/obidos/ASIN/B097QK...  $329.99   \n",
       "1  https://www.amazon.com/exec/obidos/ASIN/B0911M...  $199.98   \n",
       "2  https://www.amazon.com/exec/obidos/ASIN/B0773Z...  $139.97   \n",
       "3  https://www.amazon.com/exec/obidos/ASIN/B092XF...  $154.97   \n",
       "4  https://www.amazon.com/exec/obidos/ASIN/B078HM...  $114.97   \n",
       "\n",
       "                                                name        ASIN  \\\n",
       "0  Sceptre IPS 24\" 1920 x 1080p Gaming Monitor up...  B097QK6W46   \n",
       "1  Sceptre 27 inch 240Hz 1080p Gaming Monitor AMD...  B0911MSYGW   \n",
       "2  Sceptre 24\" Professional Thin 75Hz 1080p LED M...  B0773ZY26F   \n",
       "3  Sceptre IPS 24-Inch Computer LED Monitor 1920x...  B092XF3W9T   \n",
       "4  Sceptre 20\" 1600 x 900 75Hz LED Monitor 2X HDM...  B078HMK7S3   \n",
       "\n",
       "                                   Best Sellers Rank    Brand          Color  \\\n",
       "0  #121,373 in Electronics (See Top 100 in Electr...  Sceptre          Black   \n",
       "1  #2,002 in Electronics (See Top 100 in Electron...  Sceptre          Black   \n",
       "2  #197 in Electronics (See Top 100 in Electronic...  Sceptre  Machine Black   \n",
       "3  #6,245 in Electronics (See Top 100 in Electron...  Sceptre          Black   \n",
       "4  #1,268 in Electronics (See Top 100 in Electron...  Sceptre          Black   \n",
       "\n",
       "                                    Customer Reviews  \\\n",
       "0  /*\\n* Fix for UDP-1061. Average customer revie...   \n",
       "1  /*\\n* Fix for UDP-1061. Average customer revie...   \n",
       "2  /*\\n* Fix for UDP-1061. Average customer revie...   \n",
       "3  /*\\n* Fix for UDP-1061. Average customer revie...   \n",
       "4  /*\\n* Fix for UDP-1061. Average customer revie...   \n",
       "\n",
       "        Item Dimensions  LxWxH  Item Weight  Manufacturer  \\\n",
       "0  21.21 x 15.75 x 5.95 inches  6.17 pounds       Sceptre   \n",
       "1  24.13 x 21.14 x 9.27 inches  13.2 pounds       Sceptre   \n",
       "2  21.59 x 7.02 x 15.83 inches  5.77 pounds  Sceptre Inc.   \n",
       "3  21.25 x 15.53 x 7.03 inches  6.02 pounds       Sceptre   \n",
       "4  18.01 x 7.02 x 13.58 inches  4.29 pounds       Sceptre   \n",
       "\n",
       "  Max Screen Resolution Screen Resolution Standing screen display size  \n",
       "0      1920X1080 Pixels       1920 x 1080                    24 Inches  \n",
       "1      1920x1080 Pixels               NaN                    27 Inches  \n",
       "2    1920 x 1080 Pixels         1920x1080                    24 Inches  \n",
       "3      1920x1080 Pixels       1920 x 1080                    24 Inches  \n",
       "4     1600 x 900 Pixels          1600x900                    20 Inches  "
      ]
     },
     "execution_count": 7,
     "metadata": {},
     "output_type": "execute_result"
    }
   ],
   "source": [
    "df = pd.read_csv('output.csv', usecols=cols)\n",
    "df.head()"
   ]
  },
  {
   "cell_type": "code",
   "execution_count": 8,
   "metadata": {},
   "outputs": [
    {
     "data": {
      "text/plain": [
       "Index(['url', 'price', 'name', 'ASIN', 'Best Sellers Rank', 'Brand', 'Color',\n",
       "       'Customer Reviews', 'Item Dimensions  LxWxH', 'Item Weight',\n",
       "       'Manufacturer', 'Max Screen Resolution', 'Screen Resolution',\n",
       "       'Standing screen display size'],\n",
       "      dtype='object')"
      ]
     },
     "execution_count": 8,
     "metadata": {},
     "output_type": "execute_result"
    }
   ],
   "source": [
    "df.columns"
   ]
  },
  {
   "cell_type": "code",
   "execution_count": 9,
   "metadata": {},
   "outputs": [
    {
     "name": "stdout",
     "output_type": "stream",
     "text": [
      "<class 'pandas.core.frame.DataFrame'>\n",
      "RangeIndex: 100 entries, 0 to 99\n",
      "Data columns (total 14 columns):\n",
      "url                             100 non-null object\n",
      "price                           100 non-null object\n",
      "name                            100 non-null object\n",
      "ASIN                            99 non-null object\n",
      "Best Sellers Rank               99 non-null object\n",
      "Brand                           81 non-null object\n",
      "Color                           79 non-null object\n",
      "Customer Reviews                96 non-null object\n",
      "Item Dimensions  LxWxH          75 non-null object\n",
      "Item Weight                     99 non-null object\n",
      "Manufacturer                    97 non-null object\n",
      "Max Screen Resolution           72 non-null object\n",
      "Screen Resolution               42 non-null object\n",
      "Standing screen display size    73 non-null object\n",
      "dtypes: object(14)\n",
      "memory usage: 11.0+ KB\n"
     ]
    }
   ],
   "source": [
    "df.info()"
   ]
  },
  {
   "cell_type": "code",
   "execution_count": 11,
   "metadata": {},
   "outputs": [
    {
     "data": {
      "text/plain": [
       "'/*\\n* Fix for UDP-1061. Average customer reviews has a small extra line on hover\\n* https://omni-grok.amazon.com/xref/src/appgroup/websiteTemplates/retail/SoftlinesDetailPageAssets/udp-intl-lock/src/legacy.css?indexName=WebsiteTemplates#40\\n*/\\n.noUnderline a:hover {\\ntext-decoration: none;\\n}\\n\\n\\n\\n\\n\\n\\n4.5 out of 5 stars\\n\\n\\n\\n\\n\\n\\n\\n\\n13 ratings\\n\\n\\n\\nP.when(\\'A\\', \\'ready\\').execute(function(A) {\\nA.declarative(\\'acrLink-click-metrics\\', \\'click\\', { \"allowLinkDefault\" : true }, function(event){\\nif(window.ue) {\\nue.count(\"acrLinkClickCount\", (ue.count(\"acrLinkClickCount\") || 0) + 1);\\n}\\n});\\n});\\n\\n\\nP.when(\\'A\\', \\'cf\\').execute(function(A) {\\nA.declarative(\\'acrStarsLink-click-metrics\\', \\'click\\', { \"allowLinkDefault\" : true },  function(event){\\nif(window.ue) {\\nue.count(\"acrStarsLinkWithPopoverClickCount\", (ue.count(\"acrStarsLinkWithPopoverClickCount\") || 0) + 1);\\n}\\n});\\n});\\n\\n\\n\\n4.5 out of 5 stars'"
      ]
     },
     "execution_count": 11,
     "metadata": {},
     "output_type": "execute_result"
    }
   ],
   "source": [
    "df.iloc[0]['Customer Reviews']"
   ]
  }
 ],
 "metadata": {
  "kernelspec": {
   "display_name": "Python 3",
   "language": "python",
   "name": "python3"
  },
  "language_info": {
   "codemirror_mode": {
    "name": "ipython",
    "version": 3
   },
   "file_extension": ".py",
   "mimetype": "text/x-python",
   "name": "python",
   "nbconvert_exporter": "python",
   "pygments_lexer": "ipython3",
   "version": "3.7.3"
  }
 },
 "nbformat": 4,
 "nbformat_minor": 2
}
